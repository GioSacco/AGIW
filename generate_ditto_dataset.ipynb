{
 "cells": [
  {
   "cell_type": "code",
   "execution_count": 1,
   "id": "df4f473d",
   "metadata": {},
   "outputs": [],
   "source": [
    "import pandas as pd\n",
    "import numpy as np\n",
    "import os\n",
    "from itertools import combinations"
   ]
  },
  {
   "cell_type": "code",
   "execution_count": 2,
   "id": "b3a4b1f5",
   "metadata": {},
   "outputs": [],
   "source": [
    "path_A = os.path.join('.', 'reviews.csv')"
   ]
  },
  {
   "cell_type": "code",
   "execution_count": 3,
   "id": "cfdd33b7",
   "metadata": {},
   "outputs": [],
   "source": [
    "datasetA = pd.read_csv(path_A)\n",
    "datasetA = datasetA.sample(200)\n",
    "datasetA = datasetA[['listing_id', 'reviewer_id']]\n",
    "\n",
    "datasetB = pd.read_csv(path_A)\n",
    "datasetB = datasetB.sample(200)\n",
    "datasetB = datasetB[['listing_id', 'reviewer_id']]\n",
    "\n",
    "datasetC = pd.read_csv(path_A)\n",
    "datasetC = datasetC.sample(200)\n",
    "datasetC = datasetC[['listing_id', 'reviewer_id']]"
   ]
  },
  {
   "cell_type": "code",
   "execution_count": 4,
   "id": "4a00e81d",
   "metadata": {},
   "outputs": [],
   "source": [
    "for index in list(combinations(datasetA.index,2)):\n",
    "    label = 0\n",
    "    if (datasetA.loc[index,:]['listing_id'][index[0]] == datasetA.loc[index,:]['listing_id'][index[1]]):\n",
    "        label = 1\n",
    "    f = open(\"test.txt\", \"a\")\n",
    "    f.write('COL title VAL ' +'\"'+str(datasetA.loc[index,:]['listing_id'][index[0]])+'\"'+ ',' +'\"'+ str(datasetA.loc[index,:]['reviewer_id'][index[0]])+'\"'+ ' \\t ' + 'COL title VAL ' +'\"'+ str(datasetA.loc[index,:]['listing_id'][index[1]])+'\"'+ ','+'\"'+ str(datasetA.loc[index,:]['reviewer_id'][index[1]]) +'\"'+ ' \\t ' + str(label))\n",
    "    f.write('\\n')\n",
    "    f.close()"
   ]
  },
  {
   "cell_type": "code",
   "execution_count": 5,
   "id": "04c79800",
   "metadata": {},
   "outputs": [],
   "source": [
    "for index in list(combinations(datasetB.index,2)):\n",
    "    label = 0\n",
    "    if (datasetB.loc[index,:]['listing_id'][index[0]] == datasetB.loc[index,:]['listing_id'][index[1]]):\n",
    "        label = 1\n",
    "    f = open(\"val.txt\", \"a\")\n",
    "    f.write('COL title VAL ' +'\"'+str(datasetB.loc[index,:]['listing_id'][index[0]])+'\"'+ ',' +'\"'+ str(datasetB.loc[index,:]['reviewer_id'][index[0]])+'\"'+ ' \\t ' + 'COL title VAL ' +'\"'+ str(datasetB.loc[index,:]['listing_id'][index[1]])+'\"'+ ','+'\"'+ str(datasetB.loc[index,:]['reviewer_id'][index[1]]) +'\"'+ ' \\t ' + str(label))\n",
    "    f.write('\\n')\n",
    "    f.close()"
   ]
  },
  {
   "cell_type": "code",
   "execution_count": 7,
   "id": "a2cd5ea8",
   "metadata": {},
   "outputs": [],
   "source": [
    "for index in list(combinations(datasetC.index,2)):\n",
    "    label = 0\n",
    "    if (datasetC.loc[index,:]['listing_id'][index[0]] == datasetC.loc[index,:]['listing_id'][index[1]]):\n",
    "        label = 1\n",
    "    f = open(\"train.txt\", \"a\")\n",
    "    f.write('COL title VAL ' +'\"'+str(datasetC.loc[index,:]['listing_id'][index[0]])+'\"'+ ',' +'\"'+ str(datasetC.loc[index,:]['reviewer_id'][index[0]])+'\"'+ ' \\t ' + 'COL title VAL ' +'\"'+ str(datasetC.loc[index,:]['listing_id'][index[1]])+'\"'+ ','+'\"'+ str(datasetC.loc[index,:]['reviewer_id'][index[1]]) +'\"'+ ' \\t ' + str(label))\n",
    "    f.write('\\n')\n",
    "    f.close()"
   ]
  },
  {
   "cell_type": "code",
   "execution_count": null,
   "id": "950bf78f",
   "metadata": {},
   "outputs": [],
   "source": []
  }
 ],
 "metadata": {
  "kernelspec": {
   "display_name": "Python 3",
   "language": "python",
   "name": "python3"
  },
  "language_info": {
   "codemirror_mode": {
    "name": "ipython",
    "version": 3
   },
   "file_extension": ".py",
   "mimetype": "text/x-python",
   "name": "python",
   "nbconvert_exporter": "python",
   "pygments_lexer": "ipython3",
   "version": "3.8.8"
  }
 },
 "nbformat": 4,
 "nbformat_minor": 5
}
